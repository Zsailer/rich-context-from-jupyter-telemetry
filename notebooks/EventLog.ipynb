{
 "cells": [
  {
   "cell_type": "code",
   "execution_count": 1,
   "metadata": {},
   "outputs": [],
   "source": [
    "import io, time, json\n",
    "import ipywidgets as widgets\n",
    "from IPython.display import Code, display\n",
    "\n",
    "f = io.open('../logs/events.log')\n",
    "junk = f.readlines()"
   ]
  },
  {
   "cell_type": "code",
   "execution_count": 2,
   "metadata": {},
   "outputs": [
    {
     "data": {
      "application/vnd.jupyter.widget-view+json": {
       "model_id": "eb632cf14b6a42c1990a209b491cc46b",
       "version_major": 2,
       "version_minor": 0
      },
      "text/plain": [
       "Output(layout=Layout(border='1px solid black', height='200px', overflow_y='auto'))"
      ]
     },
     "metadata": {},
     "output_type": "display_data"
    }
   ],
   "source": [
    "raw_event_widget = widgets.Output(\n",
    "    layout=widgets.Layout(\n",
    "        border='1px solid black', \n",
    "        height='200px',\n",
    "        overflow_y='auto'\n",
    "    )\n",
    ")\n",
    "raw_event_widget"
   ]
  },
  {
   "cell_type": "code",
   "execution_count": 3,
   "metadata": {},
   "outputs": [],
   "source": [
    "import asyncio\n",
    "from watchgod import awatch\n",
    "import os\n",
    "\n",
    "\n",
    "async def main():    \n",
    "    # When a change is triggered, add it to the output widget.\n",
    "    async for changes in awatch('../logs'):\n",
    "        chunk = f.readlines()\n",
    "        for s in chunk:\n",
    "            if s != '':\n",
    "                msg = json.loads(s)\n",
    "                content = msg['msg']['content']\n",
    "                if 'code' in content:\n",
    "                    raw_event_widget.append_display_data(\n",
    "                        Code(\n",
    "                            data=content['code'], \n",
    "                            language='py3'\n",
    "                        )\n",
    "                    )\n",
    "        raw_event_widget.clear_output()\n",
    "\n",
    "                \n",
    "\n",
    "        \n",
    "loop = asyncio.get_running_loop()       \n",
    "task = loop.create_task(main())"
   ]
  },
  {
   "cell_type": "markdown",
   "metadata": {},
   "source": [
    "# Rich context"
   ]
  },
  {
   "cell_type": "code",
   "execution_count": null,
   "metadata": {},
   "outputs": [],
   "source": []
  }
 ],
 "metadata": {
  "kernelspec": {
   "display_name": "Python 3",
   "language": "python",
   "name": "python3"
  },
  "language_info": {
   "codemirror_mode": {
    "name": "ipython",
    "version": 3
   },
   "file_extension": ".py",
   "mimetype": "text/x-python",
   "name": "python",
   "nbconvert_exporter": "python",
   "pygments_lexer": "ipython3",
   "version": "3.8.0"
  }
 },
 "nbformat": 4,
 "nbformat_minor": 4
}
